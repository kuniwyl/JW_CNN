{
 "cells": [
  {
   "cell_type": "code",
   "execution_count": 5,
   "metadata": {},
   "outputs": [
    {
     "data": {
      "text/plain": [
       "dataset MNIST:\n",
       "  metadata  =>    Dict{String, Any} with 3 entries\n",
       "  split     =>    :test\n",
       "  features  =>    28×28×10000 Array{Float32, 3}\n",
       "  targets   =>    10000-element Vector{Int64}"
      ]
     },
     "metadata": {},
     "output_type": "display_data"
    }
   ],
   "source": [
    "using MLDatasets, Flux\n",
    "using JW_CNN\n",
    "\n",
    "# Load the MNIST data \n",
    "train_data = MLDatasets.MNIST(split=:train)\n",
    "test_data  = MLDatasets.MNIST(split=:test)"
   ]
  },
  {
   "cell_type": "code",
   "execution_count": 7,
   "metadata": {},
   "outputs": [
    {
     "ename": "MethodError",
     "evalue": "MethodError: no method matching NeuralNetwork(::Float64)\n\nClosest candidates are:\n  NeuralNetwork(::Any, !Matched::Any, !Matched::Any)\n   @ JW_CNN c:\\Users\\jakub\\Documents\\JW_CNN\\src\\JW_CNN.jl:19\n  NeuralNetwork(::Float64, !Matched::Int32)\n   @ JW_CNN c:\\Users\\jakub\\Documents\\JW_CNN\\src\\JW_CNN.jl:25\n  NeuralNetwork(!Matched::Vector, !Matched::Float64, !Matched::Int32)\n   @ JW_CNN c:\\Users\\jakub\\Documents\\JW_CNN\\src\\JW_CNN.jl:19\n",
     "output_type": "error",
     "traceback": [
      "MethodError: no method matching NeuralNetwork(::Float64)\n",
      "\n",
      "Closest candidates are:\n",
      "  NeuralNetwork(::Any, !Matched::Any, !Matched::Any)\n",
      "   @ JW_CNN c:\\Users\\jakub\\Documents\\JW_CNN\\src\\JW_CNN.jl:19\n",
      "  NeuralNetwork(::Float64, !Matched::Int32)\n",
      "   @ JW_CNN c:\\Users\\jakub\\Documents\\JW_CNN\\src\\JW_CNN.jl:25\n",
      "  NeuralNetwork(!Matched::Vector, !Matched::Float64, !Matched::Int32)\n",
      "   @ JW_CNN c:\\Users\\jakub\\Documents\\JW_CNN\\src\\JW_CNN.jl:19\n",
      "\n",
      "\n",
      "Stacktrace:\n",
      " [1] top-level scope\n",
      "   @ c:\\Users\\jakub\\Documents\\JW_CNN\\main.ipynb:1"
     ]
    }
   ],
   "source": [
    "network = JW_CNN.NeuralNetwork(0.01)\n",
    "JW_CNN.add_layer!(network, JW_CNN.ConvLayer(3, 3, 6))\n",
    "JW_CNN.add_layer!(network, JW_CNN.MaxPoolLayer((2, 2)))\n",
    "JW_CNN.add_layer!(network, JW_CNN.ConvLayer(3, 3, 16))\n",
    "JW_CNN.add_layer!(network, JW_CNN.MaxPoolLayer((2, 2)))\n",
    "JW_CNN.add_layer!(network, JW_CNN.FlattenLayer())\n",
    "JW_CNN.add_layer!(network, JW_CNN.FCLayer(400, 84))\n",
    "JW_CNN.add_layer!(network, JW_CNN.FCLayer(84, 10))\n",
    "\n",
    "inputs = reshape(train_data.features, 28, 28, 1, :)\n",
    "targets = Flux.onehotbatch(train_data.targets, 0:9)\n",
    "targets = reshape(targets, 10, :)\n",
    "\n",
    "inputs = inputs[:, :, :, 1:1000]\n",
    "targets = targets[:, 1:1000]\n",
    "\n",
    "JW_CNN.train(network, inputs, targets, 10, 200)"
   ]
  },
  {
   "cell_type": "code",
   "execution_count": null,
   "metadata": {},
   "outputs": [],
   "source": []
  }
 ],
 "metadata": {
  "kernelspec": {
   "display_name": "Julia 1.10.3",
   "language": "julia",
   "name": "julia-1.10"
  },
  "language_info": {
   "file_extension": ".jl",
   "mimetype": "application/julia",
   "name": "julia",
   "version": "1.10.3"
  }
 },
 "nbformat": 4,
 "nbformat_minor": 2
}
