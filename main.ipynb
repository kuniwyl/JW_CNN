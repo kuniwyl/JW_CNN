{
 "cells": [
  {
   "cell_type": "code",
   "execution_count": 1,
   "metadata": {},
   "outputs": [
    {
     "name": "stdout",
     "output_type": "stream",
     "text": [
      "JW_CNN module loaded\n",
      "Number of threads: 8\n"
     ]
    },
    {
     "data": {
      "text/plain": [
       "dataset MNIST:\n",
       "  metadata  =>    Dict{String, Any} with 3 entries\n",
       "  split     =>    :test\n",
       "  features  =>    28×28×10000 Array{Float32, 3}\n",
       "  targets   =>    10000-element Vector{Int64}"
      ]
     },
     "metadata": {},
     "output_type": "display_data"
    }
   ],
   "source": [
    "using MLDatasets\n",
    "using Flux: onehotbatch\n",
    "include(\"src/JW_CNN.jl\")\n",
    "# Load the MNIST data \n",
    "train_data = MLDatasets.MNIST(split=:train)\n",
    "test_data  = MLDatasets.MNIST(split=:test)"
   ]
  },
  {
   "cell_type": "code",
   "execution_count": 2,
   "metadata": {},
   "outputs": [
    {
     "data": {
      "text/plain": [
       "identity_derivative (generic function with 1 method)"
      ]
     },
     "metadata": {},
     "output_type": "display_data"
    }
   ],
   "source": [
    "function relu(x)\n",
    "    return @.max(0, x)\n",
    "end\n",
    "\n",
    "function relu_derivative(x)\n",
    "    return @. x > 0\n",
    "end\n",
    "\n",
    "function identity(x)\n",
    "    return x\n",
    "end\n",
    "\n",
    "function identity_derivative(x)\n",
    "    return ones(size(x))\n",
    "end"
   ]
  },
  {
   "cell_type": "code",
   "execution_count": 3,
   "metadata": {},
   "outputs": [],
   "source": [
    "network = JW_CNN.NeuralNetwork(0.01, 100)\n",
    "JW_CNN.add_layer!(network, JW_CNN.ConvLayer(3, 3, 6))\n",
    "JW_CNN.add_layer!(network, JW_CNN.MaxPoolLayer(2, 2))\n",
    "JW_CNN.add_layer!(network, JW_CNN.ConvLayer(3, 3, 16))\n",
    "JW_CNN.add_layer!(network, JW_CNN.MaxPoolLayer(2, 2))\n",
    "JW_CNN.add_layer!(network, JW_CNN.FlattenLayer())\n",
    "JW_CNN.add_layer!(network, JW_CNN.FCLayer(400, 84, relu, relu_derivative))\n",
    "JW_CNN.add_layer!(network, JW_CNN.FCLayer(84, 10, identity, identity_derivative))\n",
    "\n",
    "inputs = reshape(train_data.features, 28, 28, 1, :);\n",
    "targets = onehotbatch(train_data.targets, 0:9);\n",
    "targets = reshape(targets, 10, :);\n",
    "\n",
    "test_input = reshape(test_data.features, 28, 28, 1, :);\n",
    "test_targets = onehotbatch(test_data.targets, 0:9);\n",
    "test_targets = reshape(test_targets, 10, :);"
   ]
  },
  {
   "cell_type": "code",
   "execution_count": 4,
   "metadata": {},
   "outputs": [
    {
     "name": "stderr",
     "output_type": "stream",
     "text": [
      "┌ Info: Test Loss: 2.3019017076492307, Test Accuracy: 8.03\n",
      "└ @ Main.JW_CNN c:\\Users\\jakub\\Documents\\JW_CNN\\src\\JW_CNN.jl:99\n"
     ]
    },
    {
     "data": {
      "text/plain": [
       "(2.3019017076492307, 8.03)"
      ]
     },
     "metadata": {},
     "output_type": "display_data"
    }
   ],
   "source": [
    "JW_CNN.test(network, test_input, test_targets)  "
   ]
  },
  {
   "cell_type": "code",
   "execution_count": 5,
   "metadata": {},
   "outputs": [
    {
     "name": "stderr",
     "output_type": "stream",
     "text": [
      "┌ Info: Epoch 1\n",
      "└ @ Main.JW_CNN c:\\Users\\jakub\\Documents\\JW_CNN\\src\\JW_CNN.jl:59\n"
     ]
    },
    {
     "name": "stdout",
     "output_type": "stream",
     "text": [
      " 16.745253 seconds (4.03 M allocations: 2.421 GiB, 1.23% gc time, 42.00% compilation time)\n"
     ]
    },
    {
     "name": "stderr",
     "output_type": "stream",
     "text": [
      "┌ Info: Test Loss: 0.34539958968758583, Test Accuracy: 89.4\n",
      "└ @ Main.JW_CNN c:\\Users\\jakub\\Documents\\JW_CNN\\src\\JW_CNN.jl:99\n",
      "┌ Info: Epoch 2\n",
      "└ @ Main.JW_CNN c:\\Users\\jakub\\Documents\\JW_CNN\\src\\JW_CNN.jl:59\n"
     ]
    },
    {
     "name": "stdout",
     "output_type": "stream",
     "text": [
      " 11.700898 seconds (255.40 k allocations: 2.165 GiB, 1.57% gc time)\n"
     ]
    },
    {
     "name": "stderr",
     "output_type": "stream",
     "text": [
      "┌ Info: Test Loss: 0.35192971155047414, Test Accuracy: 88.34\n",
      "└ @ Main.JW_CNN c:\\Users\\jakub\\Documents\\JW_CNN\\src\\JW_CNN.jl:99\n",
      "┌ Info: Epoch 3\n",
      "└ @ Main.JW_CNN c:\\Users\\jakub\\Documents\\JW_CNN\\src\\JW_CNN.jl:59\n"
     ]
    },
    {
     "name": "stdout",
     "output_type": "stream",
     "text": [
      " 11.881479 seconds (255.40 k allocations: 2.165 GiB, 1.49% gc time)\n"
     ]
    },
    {
     "name": "stderr",
     "output_type": "stream",
     "text": [
      "┌ Info: Test Loss: 0.2227177070081234, Test Accuracy: 93.07\n",
      "└ @ Main.JW_CNN c:\\Users\\jakub\\Documents\\JW_CNN\\src\\JW_CNN.jl:99\n"
     ]
    }
   ],
   "source": [
    "JW_CNN.train(network, inputs, targets, test_input, test_targets, 3);"
   ]
  },
  {
   "cell_type": "code",
   "execution_count": 6,
   "metadata": {},
   "outputs": [
    {
     "name": "stderr",
     "output_type": "stream",
     "text": [
      "┌ Info: Test Loss: 0.2227177080512047, Test Accuracy: 93.07\n",
      "└ @ Main.JW_CNN c:\\Users\\jakub\\Documents\\JW_CNN\\src\\JW_CNN.jl:99\n"
     ]
    },
    {
     "data": {
      "text/plain": [
       "(0.2227177080512047, 93.07)"
      ]
     },
     "metadata": {},
     "output_type": "display_data"
    }
   ],
   "source": [
    "JW_CNN.test(network, test_input, test_targets)  "
   ]
  },
  {
   "cell_type": "code",
   "execution_count": 51,
   "metadata": {},
   "outputs": [],
   "source": []
  }
 ],
 "metadata": {
  "kernelspec": {
   "display_name": "Julia 1.10.3",
   "language": "julia",
   "name": "julia-1.10"
  },
  "language_info": {
   "file_extension": ".jl",
   "mimetype": "application/julia",
   "name": "julia",
   "version": "1.10.3"
  }
 },
 "nbformat": 4,
 "nbformat_minor": 2
}
