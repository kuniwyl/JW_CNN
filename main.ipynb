{
 "cells": [
  {
   "cell_type": "code",
   "execution_count": 45,
   "metadata": {},
   "outputs": [
    {
     "name": "stdout",
     "output_type": "stream",
     "text": [
      "JW_CNN module loaded\n",
      "Number of threads: 8\n"
     ]
    },
    {
     "name": "stderr",
     "output_type": "stream",
     "text": [
      "WARNING: replacing module JW_CNN.\n"
     ]
    },
    {
     "data": {
      "text/plain": [
       "dataset MNIST:\n",
       "  metadata  =>    Dict{String, Any} with 3 entries\n",
       "  split     =>    :test\n",
       "  features  =>    28×28×10000 Array{Float32, 3}\n",
       "  targets   =>    10000-element Vector{Int64}"
      ]
     },
     "metadata": {},
     "output_type": "display_data"
    }
   ],
   "source": [
    "using MLDatasets\n",
    "using Flux: onehotbatch\n",
    "include(\"src/JW_CNN.jl\")\n",
    "# Load the MNIST data \n",
    "train_data = MLDatasets.MNIST(split=:train)\n",
    "test_data  = MLDatasets.MNIST(split=:test)"
   ]
  },
  {
   "cell_type": "code",
   "execution_count": 46,
   "metadata": {},
   "outputs": [
    {
     "data": {
      "text/plain": [
       "identity_derivative (generic function with 1 method)"
      ]
     },
     "metadata": {},
     "output_type": "display_data"
    }
   ],
   "source": [
    "function relu(x)\n",
    "    return @.max(0, x)\n",
    "end\n",
    "\n",
    "function relu_derivative(x)\n",
    "    return @. x > 0\n",
    "end\n",
    "\n",
    "function identity(x)\n",
    "    return x\n",
    "end\n",
    "\n",
    "function identity_derivative(x)\n",
    "    return ones(size(x))\n",
    "end"
   ]
  },
  {
   "cell_type": "code",
   "execution_count": 47,
   "metadata": {},
   "outputs": [],
   "source": [
    "network = JW_CNN.NeuralNetwork(0.01, 100)\n",
    "JW_CNN.add_layer!(network, JW_CNN.ConvLayer(3, 3, 6))\n",
    "JW_CNN.add_layer!(network, JW_CNN.MaxPoolLayer(2, 2))\n",
    "JW_CNN.add_layer!(network, JW_CNN.ConvLayer(3, 3, 16))\n",
    "JW_CNN.add_layer!(network, JW_CNN.MaxPoolLayer(2, 2))\n",
    "JW_CNN.add_layer!(network, JW_CNN.FlattenLayer())\n",
    "JW_CNN.add_layer!(network, JW_CNN.FCLayer(400, 84, relu, relu_derivative))\n",
    "JW_CNN.add_layer!(network, JW_CNN.FCLayer(84, 10, identity, identity_derivative))\n",
    "\n",
    "inputs = reshape(train_data.features, 28, 28, 1, :);\n",
    "targets = onehotbatch(train_data.targets, 0:9);\n",
    "targets = reshape(targets, 10, :);\n",
    "\n",
    "test_input = reshape(test_data.features, 28, 28, 1, :);\n",
    "test_targets = onehotbatch(test_data.targets, 0:9);\n",
    "test_targets = reshape(test_targets, 10, :);"
   ]
  },
  {
   "cell_type": "code",
   "execution_count": 48,
   "metadata": {},
   "outputs": [
    {
     "name": "stderr",
     "output_type": "stream",
     "text": [
      "┌ Info: Test Loss: 2.2962243509292604, Test Accuracy: 9.78\n",
      "└ @ Main.JW_CNN c:\\Users\\jakub\\Documents\\JW_CNN\\src\\JW_CNN.jl:100\n"
     ]
    },
    {
     "data": {
      "text/plain": [
       "(2.2962243509292604, 9.78)"
      ]
     },
     "metadata": {},
     "output_type": "display_data"
    }
   ],
   "source": [
    "JW_CNN.test(network, test_input, test_targets)  "
   ]
  },
  {
   "cell_type": "code",
   "execution_count": 49,
   "metadata": {},
   "outputs": [
    {
     "name": "stdout",
     "output_type": "stream",
     "text": [
      " 38.540767 seconds (669.42 k allocations: 2.487 GiB, 0.89% gc time, 7.54% compilation time)\n"
     ]
    },
    {
     "name": "stderr",
     "output_type": "stream",
     "text": [
      "┌ Info: Epoch 1\n",
      "└ @ Main.JW_CNN c:\\Users\\jakub\\Documents\\JW_CNN\\src\\JW_CNN.jl:59\n",
      "┌ Info: Test Loss: 0.32834180533885954, Test Accuracy: 89.33\n",
      "└ @ Main.JW_CNN c:\\Users\\jakub\\Documents\\JW_CNN\\src\\JW_CNN.jl:100\n",
      "┌ Info: Epoch 2\n",
      "└ @ Main.JW_CNN c:\\Users\\jakub\\Documents\\JW_CNN\\src\\JW_CNN.jl:59\n"
     ]
    },
    {
     "name": "stdout",
     "output_type": "stream",
     "text": [
      " 35.349587 seconds (62.61 k allocations: 2.433 GiB, 0.28% gc time)\n"
     ]
    },
    {
     "name": "stderr",
     "output_type": "stream",
     "text": [
      "┌ Info: Test Loss: 0.21462852627038956, Test Accuracy: 93.56\n",
      "└ @ Main.JW_CNN c:\\Users\\jakub\\Documents\\JW_CNN\\src\\JW_CNN.jl:100\n",
      "┌ Info: Epoch 3\n",
      "└ @ Main.JW_CNN c:\\Users\\jakub\\Documents\\JW_CNN\\src\\JW_CNN.jl:59\n"
     ]
    },
    {
     "name": "stdout",
     "output_type": "stream",
     "text": [
      " 35.460798 seconds (62.62 k allocations: 2.433 GiB, 0.27% gc time)\n"
     ]
    },
    {
     "name": "stderr",
     "output_type": "stream",
     "text": [
      "┌ Info: Test Loss: 0.1674371740221977, Test Accuracy: 94.98\n",
      "└ @ Main.JW_CNN c:\\Users\\jakub\\Documents\\JW_CNN\\src\\JW_CNN.jl:100\n"
     ]
    }
   ],
   "source": [
    "JW_CNN.train(network, inputs, targets, test_input, test_targets, 3);"
   ]
  },
  {
   "cell_type": "code",
   "execution_count": 50,
   "metadata": {},
   "outputs": [
    {
     "name": "stderr",
     "output_type": "stream",
     "text": [
      "┌ Info: Test Loss: 0.16743717635050415, Test Accuracy: 94.98\n",
      "└ @ Main.JW_CNN c:\\Users\\jakub\\Documents\\JW_CNN\\src\\JW_CNN.jl:100\n"
     ]
    },
    {
     "data": {
      "text/plain": [
       "(0.16743717635050415, 94.98)"
      ]
     },
     "metadata": {},
     "output_type": "display_data"
    }
   ],
   "source": [
    "JW_CNN.test(network, test_input, test_targets)  "
   ]
  },
  {
   "cell_type": "code",
   "execution_count": 51,
   "metadata": {},
   "outputs": [],
   "source": []
  }
 ],
 "metadata": {
  "kernelspec": {
   "display_name": "Julia 1.10.3",
   "language": "julia",
   "name": "julia-1.10"
  },
  "language_info": {
   "file_extension": ".jl",
   "mimetype": "application/julia",
   "name": "julia",
   "version": "1.10.3"
  }
 },
 "nbformat": 4,
 "nbformat_minor": 2
}
