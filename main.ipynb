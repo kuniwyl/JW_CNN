{
 "cells": [
  {
   "cell_type": "code",
   "execution_count": 1,
   "metadata": {},
   "outputs": [
    {
     "name": "stdout",
     "output_type": "stream",
     "text": [
      "JW_CNN module loaded\n",
      "Number of threads: 1\n"
     ]
    },
    {
     "data": {
      "text/plain": [
       "dataset MNIST:\n",
       "  metadata  =>    Dict{String, Any} with 3 entries\n",
       "  split     =>    :test\n",
       "  features  =>    28×28×10000 Array{Float32, 3}\n",
       "  targets   =>    10000-element Vector{Int64}"
      ]
     },
     "metadata": {},
     "output_type": "display_data"
    }
   ],
   "source": [
    "using MLDatasets\n",
    "using Flux: onehotbatch\n",
    "using JW_CNN\n",
    "\n",
    "# Load the MNIST data \n",
    "train_data = MLDatasets.MNIST(split=:train)\n",
    "test_data  = MLDatasets.MNIST(split=:test)"
   ]
  },
  {
   "cell_type": "code",
   "execution_count": 2,
   "metadata": {},
   "outputs": [
    {
     "data": {
      "text/plain": [
       "identity_direrivative_own (generic function with 1 method)"
      ]
     },
     "metadata": {},
     "output_type": "display_data"
    }
   ],
   "source": [
    "function relu_own(x)\n",
    "    return max.(0, x)\n",
    "end\n",
    "\n",
    "function identity_own(x)\n",
    "    return x\n",
    "end\n",
    "\n",
    "function relu_direrivative_own(x)\n",
    "    return x .> 0\n",
    "end\n",
    "\n",
    "function identity_direrivative_own(x)\n",
    "    return ones(size(x))\n",
    "end"
   ]
  },
  {
   "cell_type": "code",
   "execution_count": 3,
   "metadata": {},
   "outputs": [],
   "source": [
    "network = JW_CNN.NeuralNetwork(0.01, 200)\n",
    "JW_CNN.add_layer!(network, JW_CNN.ConvLayer(3, 3, 6))\n",
    "JW_CNN.add_layer!(network, JW_CNN.MaxPoolLayer(2, 2))\n",
    "JW_CNN.add_layer!(network, JW_CNN.ConvLayer(3, 3, 16))\n",
    "JW_CNN.add_layer!(network, JW_CNN.MaxPoolLayer(2, 2))\n",
    "JW_CNN.add_layer!(network, JW_CNN.FlattenLayer())\n",
    "JW_CNN.add_layer!(network, JW_CNN.FCLayer(400, 84, relu_own, relu_direrivative_own))\n",
    "JW_CNN.add_layer!(network, JW_CNN.FCLayer(84, 10, identity_own, identity_direrivative_own))\n",
    "\n",
    "inputs = reshape(train_data.features, 28, 28, 1, :);\n",
    "targets = onehotbatch(train_data.targets, 0:9);\n",
    "targets = reshape(targets, 10, :);\n",
    "\n",
    "test_input = reshape(test_data.features, 28, 28, 1, :);\n",
    "test_targets = onehotbatch(test_data.targets, 0:9);\n",
    "test_targets = reshape(test_targets, 10, :);"
   ]
  },
  {
   "cell_type": "code",
   "execution_count": 4,
   "metadata": {},
   "outputs": [
    {
     "name": "stderr",
     "output_type": "stream",
     "text": [
      "┌ Info: Epoch 1\n",
      "└ @ JW_CNN c:\\Users\\jakub\\Documents\\JW_CNN\\src\\JW_CNN.jl:102\n",
      "┌ Info: Loss: 1.299295, Accuracy: 61.0, Epoch 1, Batch number: 50 / 300\n",
      "└ @ JW_CNN c:\\Users\\jakub\\Documents\\JW_CNN\\src\\JW_CNN.jl:126\n",
      "┌ Info: Loss: 0.80909896, Accuracy: 77.5, Epoch 1, Batch number: 100 / 300\n",
      "└ @ JW_CNN c:\\Users\\jakub\\Documents\\JW_CNN\\src\\JW_CNN.jl:126\n",
      "┌ Info: Loss: 0.5843143, Accuracy: 79.5, Epoch 1, Batch number: 150 / 300\n",
      "└ @ JW_CNN c:\\Users\\jakub\\Documents\\JW_CNN\\src\\JW_CNN.jl:126\n",
      "┌ Info: Loss: 0.41329452, Accuracy: 88.0, Epoch 1, Batch number: 200 / 300\n",
      "└ @ JW_CNN c:\\Users\\jakub\\Documents\\JW_CNN\\src\\JW_CNN.jl:126\n",
      "┌ Info: Loss: 0.5825803, Accuracy: 82.5, Epoch 1, Batch number: 250 / 300\n",
      "└ @ JW_CNN c:\\Users\\jakub\\Documents\\JW_CNN\\src\\JW_CNN.jl:126\n",
      "┌ Info: Loss: 0.37933883, Accuracy: 88.0, Epoch 1, Batch number: 300 / 300\n",
      "└ @ JW_CNN c:\\Users\\jakub\\Documents\\JW_CNN\\src\\JW_CNN.jl:126\n"
     ]
    },
    {
     "name": "stdout",
     "output_type": "stream",
     "text": [
      "629.415893 seconds (7.51 G allocations: 529.608 GiB, 7.77% gc time, 3.08% compilation time: <1% of which was recompilation)\n"
     ]
    },
    {
     "name": "stderr",
     "output_type": "stream",
     "text": [
      "┌ Info: Test Loss: 0.34207146376371383, Test Accuracy: 89.82\n",
      "└ @ JW_CNN c:\\Users\\jakub\\Documents\\JW_CNN\\src\\JW_CNN.jl:155\n",
      "┌ Info: Test Loss: 0.34207146376371383, Test Accuracy: 89.82\n",
      "└ @ JW_CNN c:\\Users\\jakub\\Documents\\JW_CNN\\src\\JW_CNN.jl:132\n",
      "┌ Info: Epoch 2\n",
      "└ @ JW_CNN c:\\Users\\jakub\\Documents\\JW_CNN\\src\\JW_CNN.jl:102\n",
      "┌ Info: Loss: 0.25283134, Accuracy: 93.0, Epoch 2, Batch number: 50 / 300\n",
      "└ @ JW_CNN c:\\Users\\jakub\\Documents\\JW_CNN\\src\\JW_CNN.jl:126\n",
      "┌ Info: Loss: 0.39629832, Accuracy: 89.0, Epoch 2, Batch number: 100 / 300\n",
      "└ @ JW_CNN c:\\Users\\jakub\\Documents\\JW_CNN\\src\\JW_CNN.jl:126\n",
      "┌ Info: Loss: 0.22615243, Accuracy: 92.0, Epoch 2, Batch number: 150 / 300\n",
      "└ @ JW_CNN c:\\Users\\jakub\\Documents\\JW_CNN\\src\\JW_CNN.jl:126\n",
      "┌ Info: Loss: 0.258988, Accuracy: 92.5, Epoch 2, Batch number: 200 / 300\n",
      "└ @ JW_CNN c:\\Users\\jakub\\Documents\\JW_CNN\\src\\JW_CNN.jl:126\n",
      "┌ Info: Loss: 0.25934264, Accuracy: 91.5, Epoch 2, Batch number: 250 / 300\n",
      "└ @ JW_CNN c:\\Users\\jakub\\Documents\\JW_CNN\\src\\JW_CNN.jl:126\n",
      "┌ Info: Loss: 0.28116217, Accuracy: 95.5, Epoch 2, Batch number: 300 / 300\n",
      "└ @ JW_CNN c:\\Users\\jakub\\Documents\\JW_CNN\\src\\JW_CNN.jl:126\n"
     ]
    },
    {
     "name": "stdout",
     "output_type": "stream",
     "text": [
      "618.425830 seconds (7.50 G allocations: 528.684 GiB, 8.12% gc time)\n"
     ]
    },
    {
     "name": "stderr",
     "output_type": "stream",
     "text": [
      "┌ Info: Test Loss: 0.23299600005149843, Test Accuracy: 93.28\n",
      "└ @ JW_CNN c:\\Users\\jakub\\Documents\\JW_CNN\\src\\JW_CNN.jl:155\n",
      "┌ Info: Test Loss: 0.23299600005149843, Test Accuracy: 93.28\n",
      "└ @ JW_CNN c:\\Users\\jakub\\Documents\\JW_CNN\\src\\JW_CNN.jl:132\n"
     ]
    }
   ],
   "source": [
    "JW_CNN.train(network, inputs, targets, test_input, test_targets, 2);"
   ]
  },
  {
   "cell_type": "code",
   "execution_count": 5,
   "metadata": {},
   "outputs": [
    {
     "name": "stdout",
     "output_type": "stream",
     "text": [
      " 10.996508 seconds (6.49 M allocations: 12.306 GiB, 13.52% gc time)\n"
     ]
    },
    {
     "name": "stderr",
     "output_type": "stream",
     "text": [
      "┌ Info: Test Loss: 0.23299600392580033, Test Accuracy: 93.28\n",
      "└ @ JW_CNN c:\\Users\\jakub\\Documents\\JW_CNN\\src\\JW_CNN.jl:155\n"
     ]
    },
    {
     "data": {
      "text/plain": [
       "(0.23299600392580033, 93.28)"
      ]
     },
     "metadata": {},
     "output_type": "display_data"
    }
   ],
   "source": [
    "@time JW_CNN.test(network, test_input, test_targets)  "
   ]
  },
  {
   "cell_type": "code",
   "execution_count": null,
   "metadata": {},
   "outputs": [],
   "source": []
  }
 ],
 "metadata": {
  "kernelspec": {
   "display_name": "Julia 1.10.3",
   "language": "julia",
   "name": "julia-1.10"
  },
  "language_info": {
   "file_extension": ".jl",
   "mimetype": "application/julia",
   "name": "julia",
   "version": "1.10.3"
  }
 },
 "nbformat": 4,
 "nbformat_minor": 2
}
